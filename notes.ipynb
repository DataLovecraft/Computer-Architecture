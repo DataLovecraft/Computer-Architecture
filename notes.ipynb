{
 "cells": [
  {
   "cell_type": "markdown",
   "metadata": {},
   "source": [
    "# Module 1\n",
    "> Basics, Number Bases"
   ]
  },
  {
   "cell_type": "code",
   "execution_count": 4,
   "metadata": {},
   "outputs": [
    {
     "name": "stdout",
     "output_type": "stream",
     "text": [
      "Hello World!\n",
      "37\n"
     ]
    }
   ],
   "source": [
    "# The index into the memory array, - location, address, pointer.\n",
    "\n",
    "# 1 - PRINT\n",
    "# 2 - HALT, stops the execution of the program\n",
    "# 3 - SAVE_REG, store a value in a register\n",
    "# 4 - PRINT_REG, print the register value in a decimal\n",
    "\n",
    "\n",
    "# a simple virtual CPU\n",
    "# a program that pretends to be a cpu\n",
    "\n",
    "# to do:\n",
    "# * store a sequence of instructions\n",
    "# * go through these instructions, doing whatever they ask me to do\n",
    "\n",
    "# Instructions\n",
    "# * Print \"Hello World\" on the screen\n",
    "# * Halts the program\n",
    "\n",
    "# grab value from each register, assign r0 to the value of them together\n",
    "# the total of r0 and r1 is limited to 255\n",
    "# in a 8-bi machine, 256+1 == 0 \n",
    "\n",
    "memory = [\n",
    "    1, # PRINT\n",
    "    \n",
    "    3, # SAVE_REG R4 37, instructions itself are also called 'opcode'\n",
    "    4, # 4 and 37 are arguments to SAVE_REG, also called 'operands'\n",
    "    37,\n",
    "    \n",
    "    4, # PRINT_REG R4\n",
    "    4,\n",
    "    \n",
    "    2  # HALT\n",
    "]\n",
    "\n",
    "registers = [0] * 8\n",
    "running = True\n",
    "\n",
    "pc = 0    # Program counter: the index into memory of the currently-executing instruction\n",
    "\n",
    "while running:\n",
    "    ir = memory[pc]    # Instruction Register\n",
    "    \n",
    "    if ir == 1: # PRINT\n",
    "        print('Hello World!')\n",
    "        \n",
    "        pc += 1\n",
    "    \n",
    "    elif ir == 2: # HALT\n",
    "        running = False\n",
    "        \n",
    "        pc += 1\n",
    "                \n",
    "    elif ir == 3: # SAVE_REG:      \n",
    "        reg_num = memory[pc + 1]\n",
    "        value = memory[pc + 2]\n",
    "        registers[reg_num] = value\n",
    "        \n",
    "        pc += 3\n",
    "        \n",
    "    elif ir == 4: # PRINT_REG\n",
    "        reg_num = memory[pc + 1]\n",
    "        print(registers[reg_num])\n",
    "        \n",
    "        pc += 2        "
   ]
  },
  {
   "cell_type": "markdown",
   "metadata": {},
   "source": [
    "# Module 2\n",
    "> Bitwise operations"
   ]
  },
  {
   "cell_type": "code",
   "execution_count": null,
   "metadata": {},
   "outputs": [],
   "source": []
  }
 ],
 "metadata": {
  "kernelspec": {
   "display_name": "lambda",
   "language": "python",
   "name": "lambda"
  },
  "language_info": {
   "codemirror_mode": {
    "name": "ipython",
    "version": 3
   },
   "file_extension": ".py",
   "mimetype": "text/x-python",
   "name": "python",
   "nbconvert_exporter": "python",
   "pygments_lexer": "ipython3",
   "version": "3.6.10"
  }
 },
 "nbformat": 4,
 "nbformat_minor": 4
}
