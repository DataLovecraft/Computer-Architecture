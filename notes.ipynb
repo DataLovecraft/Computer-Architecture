{
 "cells": [
  {
   "cell_type": "markdown",
   "metadata": {},
   "source": [
    "# Module 1\n",
    "> Basics, Number Bases"
   ]
  },
  {
   "cell_type": "code",
   "execution_count": 4,
   "metadata": {},
   "outputs": [
    {
     "name": "stdout",
     "output_type": "stream",
     "text": [
      "Hello World!\n",
      "37\n"
     ]
    }
   ],
   "source": [
    "# The index into the memory array, - location, address, pointer.\n",
    "\n",
    "# 1 - PRINT\n",
    "# 2 - HALT, stops the execution of the program\n",
    "# 3 - SAVE_REG, store a value in a register\n",
    "# 4 - PRINT_REG, print the register value in a decimal\n",
    "\n",
    "\n",
    "# a simple virtual CPU\n",
    "# a program that pretends to be a cpu\n",
    "\n",
    "# to do:\n",
    "# * store a sequence of instructions\n",
    "# * go through these instructions, doing whatever they ask me to do\n",
    "\n",
    "# Instructions\n",
    "# * Print \"Hello World\" on the screen\n",
    "# * Halts the program\n",
    "\n",
    "# grab value from each register, assign r0 to the value of them together\n",
    "# the total of r0 and r1 is limited to 255\n",
    "# in a 8-bi machine, 256+1 == 0 \n",
    "\n",
    "memory = [\n",
    "    1, # PRINT\n",
    "    \n",
    "    3, # SAVE_REG R4 37, instructions itself are also called 'opcode'\n",
    "    4, # 4 and 37 are arguments to SAVE_REG, also called 'operands'\n",
    "    37,\n",
    "    \n",
    "    4, # PRINT_REG R4\n",
    "    4,\n",
    "    \n",
    "    2  # HALT\n",
    "]\n",
    "\n",
    "registers = [0] * 8\n",
    "running = True\n",
    "\n",
    "pc = 0    # Program counter: the index into memory of the currently-executing instruction\n",
    "\n",
    "while running:\n",
    "    ir = memory[pc]    # Instruction Register\n",
    "    \n",
    "    if ir == 1: # PRINT\n",
    "        print('Hello World!')\n",
    "        \n",
    "        pc += 1\n",
    "    \n",
    "    elif ir == 2: # HALT\n",
    "        running = False\n",
    "        \n",
    "        pc += 1\n",
    "                \n",
    "    elif ir == 3: # SAVE_REG:      \n",
    "        reg_num = memory[pc + 1]\n",
    "        value = memory[pc + 2]\n",
    "        registers[reg_num] = value\n",
    "        \n",
    "        pc += 3\n",
    "        \n",
    "    elif ir == 4: # PRINT_REG\n",
    "        reg_num = memory[pc + 1]\n",
    "        print(registers[reg_num])\n",
    "        \n",
    "        pc += 2        "
   ]
  },
  {
   "cell_type": "markdown",
   "metadata": {},
   "source": [
    "# Module 2\n",
    "> Bitwise operations"
   ]
  },
  {
   "cell_type": "code",
   "execution_count": 6,
   "metadata": {},
   "outputs": [
    {
     "name": "stdout",
     "output_type": "stream",
     "text": [
      "usage: comp.py progname\n"
     ]
    },
    {
     "ename": "SystemExit",
     "evalue": "1",
     "output_type": "error",
     "traceback": [
      "An exception has occurred, use %tb to see the full traceback.\n",
      "\u001b[0;31mSystemExit\u001b[0m\u001b[0;31m:\u001b[0m 1\n"
     ]
    },
    {
     "name": "stderr",
     "output_type": "stream",
     "text": [
      "/Users/johann/miniconda3/envs/lambda/lib/python3.6/site-packages/IPython/core/interactiveshell.py:3339: UserWarning: To exit: use 'exit', 'quit', or Ctrl-D.\n",
      "  warn(\"To exit: use 'exit', 'quit', or Ctrl-D.\", stacklevel=1)\n"
     ]
    }
   ],
   "source": [
    "import sys\n",
    "\n",
    "memory = [0] * 256    # think of memory as a big array of bytes, 8-bits per byte\n",
    "\n",
    "registers = [0] * 8\n",
    "\n",
    "# load the program file:\n",
    "address = 0\n",
    "\n",
    "if len(sys.argv) != 2:\n",
    "    print('usage: comp.py progname')\n",
    "    sys.exit(1)\n",
    "    \n",
    "try:\n",
    "    with open(sys.argv[1]) as f:\n",
    "        for line in f:\n",
    "            line = line.strip()\n",
    "            temp = line.split()\n",
    "            \n",
    "            if len(temp) == 0:\n",
    "                continue\n",
    "                \n",
    "            if temp[0][0] == '#':\n",
    "                continue\n",
    "                \n",
    "            try:\n",
    "                memory[address] = int(temp[0])\n",
    "                \n",
    "            except ValueError:\n",
    "                print(f'Invalid number: {temp[0]}')\n",
    "                sys.exit(1)\n",
    "                \n",
    "            address += 1\n",
    "\n",
    "except FileNotFoundError:\n",
    "    print(f\"Couldn't open {sys.argv[1]}\")\n",
    "    sys.exit(2)\n",
    "    \n",
    "if address == 0:\n",
    "    print('Program was empty!')\n",
    "    sys.exit(3)\n",
    "    \n",
    "running = True\n",
    "\n",
    "pc = 0    # Program counter: the index into memory of the currently-executing instruction\n",
    "\n",
    "while running:\n",
    "    ir = memory[pc]    # Instruction Register\n",
    "    \n",
    "    if ir == 1: # PRINT\n",
    "        print('Hello World!')\n",
    "        \n",
    "        pc += 1\n",
    "    \n",
    "    elif ir == 2: # HALT\n",
    "        running = False\n",
    "        \n",
    "        pc += 1\n",
    "                \n",
    "    elif ir == 3: # SAVE_REG:      \n",
    "        reg_num = memory[pc + 1]\n",
    "        value = memory[pc + 2]\n",
    "        registers[reg_num] = value\n",
    "        \n",
    "        pc += 3\n",
    "        \n",
    "    elif ir == 4: # PRINT_REG\n",
    "        reg_num = memory[pc + 1]\n",
    "        print(registers[reg_num])\n",
    "        \n",
    "        pc += 2 \n",
    "        \n",
    "    else:\n",
    "        print(f\"Invalid instruction {ir} at address {pc}\")\n",
    "        sys.exit(1)"
   ]
  },
  {
   "cell_type": "code",
   "execution_count": null,
   "metadata": {},
   "outputs": [],
   "source": []
  }
 ],
 "metadata": {
  "kernelspec": {
   "display_name": "lambda",
   "language": "python",
   "name": "lambda"
  },
  "language_info": {
   "codemirror_mode": {
    "name": "ipython",
    "version": 3
   },
   "file_extension": ".py",
   "mimetype": "text/x-python",
   "name": "python",
   "nbconvert_exporter": "python",
   "pygments_lexer": "ipython3",
   "version": "3.6.10"
  }
 },
 "nbformat": 4,
 "nbformat_minor": 4
}
